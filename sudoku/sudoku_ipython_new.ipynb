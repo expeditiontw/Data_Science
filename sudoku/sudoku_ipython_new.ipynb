{
 "cells": [
  {
   "cell_type": "code",
   "execution_count": 1,
   "metadata": {
    "collapsed": true
   },
   "outputs": [],
   "source": [
    "import tensorflow as tf\n",
    "import numpy as np\n",
    "import pandas as pd\n",
    "import matplotlib.pyplot as plt\n",
    "from matplotlib import pyplot\n",
    "import matplotlib as mpl\n",
    "import time\n",
    "\n",
    "SEED = 42\n",
    "SAMPLE_SIZE = 150000\n",
    "\n",
    "%matplotlib inline\n"
   ]
  },
  {
   "cell_type": "code",
   "execution_count": 2,
   "metadata": {},
   "outputs": [
    {
     "data": {
      "text/html": [
       "<div>\n",
       "<style>\n",
       "    .dataframe thead tr:only-child th {\n",
       "        text-align: right;\n",
       "    }\n",
       "\n",
       "    .dataframe thead th {\n",
       "        text-align: left;\n",
       "    }\n",
       "\n",
       "    .dataframe tbody tr th {\n",
       "        vertical-align: top;\n",
       "    }\n",
       "</style>\n",
       "<table border=\"1\" class=\"dataframe\">\n",
       "  <thead>\n",
       "    <tr style=\"text-align: right;\">\n",
       "      <th></th>\n",
       "      <th>quizzes</th>\n",
       "      <th>solutions</th>\n",
       "    </tr>\n",
       "  </thead>\n",
       "  <tbody>\n",
       "    <tr>\n",
       "      <th>0</th>\n",
       "      <td>0043002090050090010700600430060020871900074000...</td>\n",
       "      <td>8643712593258497619712658434361925871986574322...</td>\n",
       "    </tr>\n",
       "    <tr>\n",
       "      <th>1</th>\n",
       "      <td>0401000501070039605200080000000000170009068008...</td>\n",
       "      <td>3461792581875239645296483719658324174729168358...</td>\n",
       "    </tr>\n",
       "    <tr>\n",
       "      <th>2</th>\n",
       "      <td>6001203840084590720000060050002640300700800069...</td>\n",
       "      <td>6951273841384596727248369158512647392739815469...</td>\n",
       "    </tr>\n",
       "    <tr>\n",
       "      <th>3</th>\n",
       "      <td>4972000001004000050000160986203000403009000000...</td>\n",
       "      <td>4972583161864397252537164986293815473759641828...</td>\n",
       "    </tr>\n",
       "    <tr>\n",
       "      <th>4</th>\n",
       "      <td>0059103080094030600275001000300002010008200070...</td>\n",
       "      <td>4659123781894735623275681497386452919548216372...</td>\n",
       "    </tr>\n",
       "  </tbody>\n",
       "</table>\n",
       "</div>"
      ],
      "text/plain": [
       "                                             quizzes  \\\n",
       "0  0043002090050090010700600430060020871900074000...   \n",
       "1  0401000501070039605200080000000000170009068008...   \n",
       "2  6001203840084590720000060050002640300700800069...   \n",
       "3  4972000001004000050000160986203000403009000000...   \n",
       "4  0059103080094030600275001000300002010008200070...   \n",
       "\n",
       "                                           solutions  \n",
       "0  8643712593258497619712658434361925871986574322...  \n",
       "1  3461792581875239645296483719658324174729168358...  \n",
       "2  6951273841384596727248369158512647392739815469...  \n",
       "3  4972583161864397252537164986293815473759641828...  \n",
       "4  4659123781894735623275681497386452919548216372...  "
      ]
     },
     "execution_count": 2,
     "metadata": {},
     "output_type": "execute_result"
    }
   ],
   "source": [
    "df = pd.read_csv('./data/sudoku.csv')\n",
    "df.head()"
   ]
  },
  {
   "cell_type": "code",
   "execution_count": 3,
   "metadata": {
    "collapsed": true
   },
   "outputs": [],
   "source": [
    "def one_hot(labels, C, axis):\n",
    "    \n",
    "    with tf.device('/gpu:0'):\n",
    "        ot = tf.one_hot(labels, C, axis=axis)\n",
    "        sess = tf.Session()\n",
    "        rtn = sess.run(ot)\n",
    "    return rtn"
   ]
  },
  {
   "cell_type": "markdown",
   "metadata": {},
   "source": [
    "# chage string to -> int list "
   ]
  },
  {
   "cell_type": "code",
   "execution_count": 4,
   "metadata": {
    "collapsed": true
   },
   "outputs": [],
   "source": [
    "def load_data(df, n_sample=SAMPLE_SIZE):\n",
    "    \n",
    "    from sklearn.model_selection import train_test_split\n",
    "    \n",
    "    X=df.iloc[:n_sample,0].values\n",
    "    y=df.iloc[:n_sample,1].values\n",
    "    \n",
    "    X_int = np.zeros((X.shape[0], 9*9), np.float32)\n",
    "    y_int = np.zeros((y.shape[0], 9*9), np.float32)\n",
    "    for j in range(X.shape[0]):\n",
    "        tmp = list(X[j])\n",
    "        tmp2 = list(y[j])\n",
    "        for i in range(len(tmp)):        \n",
    "            X_int[j,i] = int(tmp[i])\n",
    "            y_int[j,i] = int(tmp2[i])\n",
    "    \n",
    "    \n",
    "    X_train, X_test, y_train, y_test = train_test_split(X_int, y_int, random_state=SEED)\n",
    "    \n",
    "    X_train_reshaped = X_train.reshape(X_train.shape[0], 9,9)\n",
    "    X_test_reshaped = X_test.reshape(X_test.shape[0], 9,9)\n",
    "    y_train_reshaped = y_train.reshape(y_train.shape[0], 9,9)\n",
    "    y_test_reshaped = y_test.reshape(y_test.shape[0], 9,9)\n",
    "    \n",
    "    X_train_one = one_hot(X_train_reshaped, 10, 3)\n",
    "    X_test_one = one_hot(X_test_reshaped, 10, 3)\n",
    "    y_train_one = one_hot(y_train_reshaped, 10, 3)\n",
    "    y_test_one = one_hot(y_test_reshaped, 10, 3)\n",
    "    \n",
    "    print ('Load Completed')\n",
    "    \n",
    "    return X_train_one, X_test_one, y_train_one, y_test_one\n",
    "    "
   ]
  },
  {
   "cell_type": "code",
   "execution_count": 5,
   "metadata": {},
   "outputs": [
    {
     "name": "stdout",
     "output_type": "stream",
     "text": [
      "Load Completed\n",
      "(112500, 9, 9, 10)\n",
      "(37500, 9, 9, 10)\n"
     ]
    }
   ],
   "source": [
    "X_train_one, X_test_one, y_train_one, y_test_one = load_data(df, n_sample=SAMPLE_SIZE)\n",
    "\n",
    "print (X_train_one.shape)\n",
    "print (y_test_one.shape)\n"
   ]
  },
  {
   "cell_type": "code",
   "execution_count": 6,
   "metadata": {
    "collapsed": true
   },
   "outputs": [],
   "source": [
    "def cal_accuracy(out, y):\n",
    "    corr = np.mean(np.equal(np.argmax(out, axis=-1), np.argmax(y, axis=-1)))\n",
    "    return (corr)\n"
   ]
  },
  {
   "cell_type": "markdown",
   "metadata": {},
   "source": [
    "# This wiil be the Base Accuracy "
   ]
  },
  {
   "cell_type": "code",
   "execution_count": 7,
   "metadata": {},
   "outputs": [
    {
     "data": {
      "text/plain": [
       "0.41741344307270234"
      ]
     },
     "execution_count": 7,
     "metadata": {},
     "output_type": "execute_result"
    }
   ],
   "source": [
    "cal_accuracy(X_train_one, y_train_one)"
   ]
  },
  {
   "cell_type": "code",
   "execution_count": 8,
   "metadata": {},
   "outputs": [
    {
     "data": {
      "text/plain": [
       "0.41756279835390947"
      ]
     },
     "execution_count": 8,
     "metadata": {},
     "output_type": "execute_result"
    }
   ],
   "source": [
    "cal_accuracy(X_test_one, y_test_one)"
   ]
  },
  {
   "cell_type": "code",
   "execution_count": 9,
   "metadata": {},
   "outputs": [
    {
     "name": "stdout",
     "output_type": "stream",
     "text": [
      "112500 9 9 10\n"
     ]
    }
   ],
   "source": [
    "n_sample, height, width, channels = X_train_one.shape\n",
    "print (n_sample, height, width, channels)\n",
    "L_RATE = 0.001\n",
    "n_conv_layer = 12\n",
    "\n",
    "\n",
    "conv1_features = 16\n",
    "conv1_filters = 3\n",
    "conv1_stride = 1\n",
    "conv1_padding = \"SAME\"\n",
    "\n",
    "conv_features = 16\n",
    "conv_filters = 3\n",
    "conv_stride = 1\n",
    "conv_padding = \"SAME\"\n",
    "\n",
    "conv4_features = 10\n",
    "conv4_filters = 3\n",
    "conv4_stride = 1\n",
    "conv4_padding = \"SAME\"\n",
    "\n",
    "n_fc1 = 9*9\n",
    "n_output_layers = 81"
   ]
  },
  {
   "cell_type": "code",
   "execution_count": 10,
   "metadata": {
    "collapsed": true
   },
   "outputs": [],
   "source": [
    "tf.set_random_seed(SEED)\n",
    "np.random.seed(SEED)\n",
    "tf.reset_default_graph()\n",
    "\n",
    "with tf.name_scope(\"inputs\"):\n",
    "    X = tf.placeholder(tf.float32, shape=[None, height, width, channels], name=\"X\")\n",
    "    y = tf.placeholder(tf.float32, shape=[None, height, width, 10], name=\"y\")\n",
    "\n",
    "with tf.name_scope(\"conv1\"):\n",
    "    conv = tf.layers.conv2d(X, filters=conv1_features, kernel_size=conv1_filters,\n",
    "                         strides=conv1_stride, padding=conv1_padding,\n",
    "                         activation=tf.nn.relu, name=\"conv1\")\n",
    "\n",
    "for i in range(n_conv_layer):\n",
    "    \n",
    "    with tf.name_scope(\"conv_l\"):\n",
    "        conv = tf.layers.conv2d(conv, filters=conv_features, kernel_size=conv_filters,\n",
    "                         strides=conv_stride, padding=conv_padding,\n",
    "                         activation=tf.nn.relu, name=\"conv_{}\".format(i))\n",
    "    \n",
    "with tf.name_scope(\"conv4\"):\n",
    "    conv4 = tf.layers.conv2d(conv, filters=conv4_features, kernel_size=conv4_filters,\n",
    "                         strides=conv4_stride, padding=conv4_padding,\n",
    "                         activation=tf.nn.relu, name=\"conv4\")\n",
    "\n",
    "with tf.name_scope(\"softmax\"):\n",
    "    logits = tf.nn.softmax(conv4, dim = 3)\n"
   ]
  },
  {
   "cell_type": "code",
   "execution_count": 11,
   "metadata": {
    "collapsed": true
   },
   "outputs": [],
   "source": [
    "with tf.device(\"/gpu:0\"):\n",
    "    cost = tf.reduce_sum(tf.losses.mean_squared_error(y, logits))\n",
    "    optimizer = tf.train.AdamOptimizer(learning_rate = L_RATE).minimize(cost)\n",
    "\n",
    "with tf.name_scope(\"eval\"):\n",
    "    correct_prediction = tf.equal(tf.argmax(logits, axis=-1), tf.argmax(y, axis=-1))\n",
    "\n",
    "    #accuracy = tf.reduce_mean(correct_prediction, axis=None)\n",
    "    accuracy = tf.reduce_mean(tf.cast(correct_prediction, tf.float32))\n",
    "\n",
    "with tf.name_scope(\"init\"):\n",
    "    init = tf.global_variables_initializer()"
   ]
  },
  {
   "cell_type": "code",
   "execution_count": 12,
   "metadata": {},
   "outputs": [
    {
     "name": "stdout",
     "output_type": "stream",
     "text": [
      "(?, 9, 9, 10)\n",
      "(?, 9, 9, 10)\n",
      "(?, 9, 9, 10)\n",
      "(?, 9, 9)\n"
     ]
    }
   ],
   "source": [
    "print (conv4.shape)\n",
    "print (logits.shape)\n",
    "print (y.shape)\n",
    "print (correct_prediction.shape)"
   ]
  },
  {
   "cell_type": "code",
   "execution_count": 13,
   "metadata": {},
   "outputs": [
    {
     "name": "stdout",
     "output_type": "stream",
     "text": [
      "Epoch 0: Time - 12.39 s Cost - 2.6580 Train Acc - 37.71 Test Acc - 56.75\n",
      "Epoch 1: Time - 11.13 s Cost - 2.1646 Train Acc - 38.89 Test Acc - 58.75\n",
      "Epoch 2: Time - 10.96 s Cost - 2.1111 Train Acc - 39.81 Test Acc - 60.33\n",
      "Epoch 3: Time - 11.05 s Cost - 2.0663 Train Acc - 40.71 Test Acc - 61.86\n",
      "Epoch 4: Time - 10.86 s Cost - 2.0262 Train Acc - 41.09 Test Acc - 62.51\n",
      "Epoch 5: Time - 10.95 s Cost - 1.9968 Train Acc - 41.49 Test Acc - 63.20\n",
      "Epoch 6: Time - 10.83 s Cost - 1.9761 Train Acc - 41.76 Test Acc - 63.64\n",
      "Epoch 7: Time - 10.97 s Cost - 1.9592 Train Acc - 41.97 Test Acc - 64.00\n",
      "Epoch 8: Time - 10.82 s Cost - 1.9456 Train Acc - 42.12 Test Acc - 64.24\n",
      "Epoch 9: Time - 10.84 s Cost - 1.9346 Train Acc - 42.34 Test Acc - 64.62\n",
      "Epoch 10: Time - 10.91 s Cost - 1.9249 Train Acc - 42.43 Test Acc - 64.77\n",
      "Epoch 11: Time - 10.98 s Cost - 1.9154 Train Acc - 42.49 Test Acc - 64.89\n",
      "Epoch 12: Time - 10.84 s Cost - 1.9062 Train Acc - 42.53 Test Acc - 64.96\n",
      "Epoch 13: Time - 10.84 s Cost - 1.8970 Train Acc - 42.64 Test Acc - 65.15\n",
      "Epoch 14: Time - 10.90 s Cost - 1.8861 Train Acc - 42.88 Test Acc - 65.55\n",
      "Epoch 15: Time - 10.80 s Cost - 1.8751 Train Acc - 43.12 Test Acc - 65.96\n",
      "Epoch 16: Time - 10.85 s Cost - 1.8661 Train Acc - 43.25 Test Acc - 66.18\n",
      "Epoch 17: Time - 10.79 s Cost - 1.8576 Train Acc - 43.42 Test Acc - 66.48\n",
      "Epoch 18: Time - 10.89 s Cost - 1.8505 Train Acc - 43.50 Test Acc - 66.63\n",
      "Epoch 19: Time - 10.86 s Cost - 1.8444 Train Acc - 43.66 Test Acc - 66.89\n",
      "Epoch 20: Time - 10.91 s Cost - 1.8386 Train Acc - 43.73 Test Acc - 67.03\n",
      "Epoch 21: Time - 10.91 s Cost - 1.8337 Train Acc - 43.83 Test Acc - 67.19\n",
      "Epoch 22: Time - 10.91 s Cost - 1.8290 Train Acc - 43.80 Test Acc - 67.14\n",
      "Epoch 23: Time - 10.97 s Cost - 1.8247 Train Acc - 43.96 Test Acc - 67.41\n",
      "Epoch 24: Time - 10.84 s Cost - 1.8211 Train Acc - 43.96 Test Acc - 67.38\n",
      "Epoch 25: Time - 10.83 s Cost - 1.8175 Train Acc - 44.02 Test Acc - 67.50\n",
      "Epoch 26: Time - 10.84 s Cost - 1.8142 Train Acc - 44.05 Test Acc - 67.55\n",
      "Epoch 27: Time - 10.75 s Cost - 1.8114 Train Acc - 44.12 Test Acc - 67.65\n",
      "Epoch 28: Time - 11.06 s Cost - 1.8086 Train Acc - 44.09 Test Acc - 67.63\n",
      "Epoch 29: Time - 10.90 s Cost - 1.8058 Train Acc - 44.17 Test Acc - 67.74\n"
     ]
    },
    {
     "data": {
      "image/png": "[encoded data removed]",
      "text/plain": [
       "<matplotlib.figure.Figure at 0x7fcfb7c815f8>"
      ]
     },
     "metadata": {},
     "output_type": "display_data"
    }
   ],
   "source": [
    "n_epochs = 30\n",
    "batch_size = 50\n",
    "m = len(X_train_one)\n",
    "\n",
    "cost_list =[]\n",
    "train_acc_list=[]\n",
    "test_acc_list=[]\n",
    "\n",
    "with tf.Session() as sess:\n",
    "    init.run()\n",
    "    for epoch in range(n_epochs):\n",
    "        epoch_cost = 0\n",
    "        start_tm = time.time()\n",
    "        \n",
    "        for iteration in range(m // batch_size):\n",
    "            X_batch = X_train_one[iteration*batch_size:(iteration+1)*batch_size]\n",
    "            y_batch = y_train_one[iteration*batch_size:(iteration+1)*batch_size]\n",
    "            _, batch_cost = sess.run([optimizer, cost], feed_dict={X: X_batch, y: y_batch})\n",
    "            epoch_cost += batch_cost / batch_size\n",
    "        \n",
    "        epoch_train_acc = accuracy.eval({X: X_train_one, y: y_train_one})\n",
    "        epoch_test_acc = accuracy.eval({X: X_test_one, y: y_test_one})\n",
    "        \n",
    "        cost_list.append(epoch_cost)\n",
    "        train_acc_list.append(epoch_train_acc)\n",
    "        test_acc_list.append(epoch_test_acc)\n",
    "        \n",
    "        end_tm = time.time()\n",
    "        \n",
    "        \n",
    "        print ('Epoch %i: Time - %0.2f s Cost - %0.4f Train Acc - %0.2f Test Acc - %0.2f' \n",
    "               % (epoch, (end_tm-start_tm), epoch_cost, 100*epoch_train_acc, 100*epoch_test_acc) )\n",
    "        \n",
    "    out_tmp = logits.eval({X: X_test_one[:3], y: y_test_one[:3]})\n",
    "    \n",
    "    \n",
    "fig, ax = plt.subplots(ncols=2)\n",
    "ax[0].plot(np.squeeze(cost_list))\n",
    "ax[0].set_ylabel('cost')\n",
    "ax[0].set_xlabel('Epoch Number')\n",
    "ax[0].set_title(\"Learning rate =\" + str(L_RATE))\n",
    "\n",
    "ax[1].plot(train_acc_list, label=\"Train Acc\")\n",
    "ax[1].plot(test_acc_list, label=\"Test Acc\")\n",
    "ax[1].set_xlabel('Epoch Number')\n",
    "ax[1].set_title(\"Accuracy \")\n",
    "ax[1].legend()\n",
    "\n",
    "plt.show()"
   ]
  },
  {
   "cell_type": "markdown",
   "metadata": {},
   "source": [
    "# Model valid test "
   ]
  },
  {
   "cell_type": "markdown",
   "metadata": {},
   "source": [
    "Input X_test array"
   ]
  },
  {
   "cell_type": "code",
   "execution_count": 14,
   "metadata": {},
   "outputs": [
    {
     "data": {
      "text/plain": [
       "array([[[0, 0, 0, 0, 2, 3, 4, 0, 6],\n",
       "        [6, 0, 7, 1, 0, 0, 0, 0, 3],\n",
       "        [0, 9, 2, 0, 0, 0, 8, 0, 5],\n",
       "        [0, 0, 8, 0, 0, 5, 0, 0, 9],\n",
       "        [7, 0, 9, 0, 0, 6, 1, 0, 0],\n",
       "        [0, 2, 0, 3, 8, 0, 0, 4, 0],\n",
       "        [0, 8, 4, 0, 0, 1, 0, 0, 2],\n",
       "        [1, 5, 0, 0, 7, 0, 0, 3, 0],\n",
       "        [0, 0, 0, 6, 0, 0, 0, 8, 0]],\n",
       "\n",
       "       [[6, 0, 0, 0, 9, 4, 7, 0, 0],\n",
       "        [0, 0, 0, 5, 0, 8, 0, 0, 0],\n",
       "        [0, 7, 9, 1, 2, 0, 0, 0, 5],\n",
       "        [0, 0, 8, 0, 3, 0, 0, 0, 4],\n",
       "        [4, 0, 5, 0, 0, 0, 0, 9, 0],\n",
       "        [0, 6, 0, 0, 0, 7, 1, 8, 2],\n",
       "        [0, 0, 0, 0, 4, 3, 0, 2, 0],\n",
       "        [2, 0, 6, 7, 0, 0, 8, 0, 0],\n",
       "        [3, 4, 1, 9, 0, 0, 0, 7, 0]],\n",
       "\n",
       "       [[0, 0, 0, 0, 3, 0, 6, 0, 8],\n",
       "        [3, 0, 5, 8, 7, 0, 9, 0, 0],\n",
       "        [0, 0, 4, 9, 6, 0, 1, 0, 0],\n",
       "        [2, 0, 8, 5, 0, 7, 0, 0, 0],\n",
       "        [0, 7, 0, 0, 0, 0, 2, 0, 5],\n",
       "        [4, 0, 9, 0, 8, 0, 0, 0, 3],\n",
       "        [9, 0, 0, 0, 0, 6, 0, 4, 0],\n",
       "        [0, 0, 0, 1, 0, 3, 8, 7, 0],\n",
       "        [0, 1, 6, 4, 0, 0, 0, 9, 0]]])"
      ]
     },
     "execution_count": 14,
     "metadata": {},
     "output_type": "execute_result"
    }
   ],
   "source": [
    "np.argmax(X_test_one[:3], axis=-1)"
   ]
  },
  {
   "cell_type": "markdown",
   "metadata": {},
   "source": [
    "Predicted Logits array"
   ]
  },
  {
   "cell_type": "code",
   "execution_count": 15,
   "metadata": {},
   "outputs": [
    {
     "data": {
      "text/plain": [
       "array([[[9, 5, 5, 8, 2, 3, 4, 9, 6],\n",
       "        [6, 4, 7, 1, 9, 8, 2, 2, 3],\n",
       "        [4, 9, 2, 4, 1, 7, 8, 6, 5],\n",
       "        [4, 1, 8, 2, 1, 5, 3, 2, 9],\n",
       "        [7, 3, 9, 2, 4, 6, 1, 2, 8],\n",
       "        [5, 2, 1, 3, 8, 9, 5, 4, 8],\n",
       "        [9, 8, 4, 9, 3, 1, 5, 6, 2],\n",
       "        [1, 5, 9, 2, 7, 8, 9, 3, 4],\n",
       "        [9, 7, 3, 6, 6, 4, 5, 8, 4]],\n",
       "\n",
       "       [[6, 2, 2, 1, 9, 4, 7, 3, 1],\n",
       "        [6, 2, 4, 5, 7, 8, 2, 1, 1],\n",
       "        [8, 7, 9, 1, 2, 6, 3, 3, 5],\n",
       "        [9, 2, 8, 2, 3, 9, 5, 6, 4],\n",
       "        [4, 3, 5, 2, 8, 2, 5, 9, 3],\n",
       "        [8, 6, 4, 3, 5, 7, 1, 8, 2],\n",
       "        [8, 9, 7, 8, 4, 3, 9, 2, 9],\n",
       "        [2, 9, 6, 7, 6, 6, 8, 4, 3],\n",
       "        [3, 4, 1, 9, 6, 2, 2, 7, 3]],\n",
       "\n",
       "       [[8, 9, 2, 2, 3, 4, 6, 5, 8],\n",
       "        [3, 1, 5, 8, 7, 4, 9, 2, 4],\n",
       "        [5, 9, 4, 9, 6, 8, 1, 3, 7],\n",
       "        [2, 9, 8, 5, 4, 7, 4, 8, 4],\n",
       "        [6, 7, 3, 1, 9, 8, 2, 8, 5],\n",
       "        [4, 5, 9, 7, 8, 5, 7, 1, 3],\n",
       "        [9, 8, 3, 3, 2, 6, 7, 4, 2],\n",
       "        [7, 4, 2, 1, 9, 3, 8, 7, 1],\n",
       "        [7, 1, 6, 4, 7, 8, 3, 9, 3]]])"
      ]
     },
     "execution_count": 15,
     "metadata": {},
     "output_type": "execute_result"
    }
   ],
   "source": [
    "np.argmax(out_tmp, axis=-1)"
   ]
  },
  {
   "cell_type": "markdown",
   "metadata": {},
   "source": [
    "Target Array"
   ]
  },
  {
   "cell_type": "code",
   "execution_count": 16,
   "metadata": {
    "scrolled": false
   },
   "outputs": [
    {
     "data": {
      "text/plain": [
       "array([[[8, 1, 5, 9, 2, 3, 4, 7, 6],\n",
       "        [6, 4, 7, 1, 5, 8, 2, 9, 3],\n",
       "        [3, 9, 2, 4, 6, 7, 8, 1, 5],\n",
       "        [4, 6, 8, 7, 1, 5, 3, 2, 9],\n",
       "        [7, 3, 9, 2, 4, 6, 1, 5, 8],\n",
       "        [5, 2, 1, 3, 8, 9, 6, 4, 7],\n",
       "        [9, 8, 4, 5, 3, 1, 7, 6, 2],\n",
       "        [1, 5, 6, 8, 7, 2, 9, 3, 4],\n",
       "        [2, 7, 3, 6, 9, 4, 5, 8, 1]],\n",
       "\n",
       "       [[6, 5, 2, 3, 9, 4, 7, 1, 8],\n",
       "        [1, 3, 4, 5, 7, 8, 2, 6, 9],\n",
       "        [8, 7, 9, 1, 2, 6, 4, 3, 5],\n",
       "        [7, 1, 8, 2, 3, 9, 6, 5, 4],\n",
       "        [4, 2, 5, 8, 6, 1, 3, 9, 7],\n",
       "        [9, 6, 3, 4, 5, 7, 1, 8, 2],\n",
       "        [5, 8, 7, 6, 4, 3, 9, 2, 1],\n",
       "        [2, 9, 6, 7, 1, 5, 8, 4, 3],\n",
       "        [3, 4, 1, 9, 8, 2, 5, 7, 6]],\n",
       "\n",
       "       [[1, 9, 7, 2, 3, 4, 6, 5, 8],\n",
       "        [3, 6, 5, 8, 7, 1, 9, 2, 4],\n",
       "        [8, 2, 4, 9, 6, 5, 1, 3, 7],\n",
       "        [2, 3, 8, 5, 1, 7, 4, 6, 9],\n",
       "        [6, 7, 1, 3, 4, 9, 2, 8, 5],\n",
       "        [4, 5, 9, 6, 8, 2, 7, 1, 3],\n",
       "        [9, 8, 3, 7, 2, 6, 5, 4, 1],\n",
       "        [5, 4, 2, 1, 9, 3, 8, 7, 6],\n",
       "        [7, 1, 6, 4, 5, 8, 3, 9, 2]]])"
      ]
     },
     "execution_count": 16,
     "metadata": {},
     "output_type": "execute_result"
    }
   ],
   "source": [
    "np.argmax(y_test_one[:3], axis=-1)"
   ]
  },
  {
   "cell_type": "code",
   "execution_count": null,
   "metadata": {
    "collapsed": true
   },
   "outputs": [],
   "source": []
  }
 ],
 "metadata": {
  "kernelspec": {
   "display_name": "Python 3",
   "language": "python",
   "name": "python3"
  },
  "language_info": {
   "codemirror_mode": {
    "name": "ipython",
    "version": 3
   },
   "file_extension": ".py",
   "mimetype": "text/x-python",
   "name": "python",
   "nbconvert_exporter": "python",
   "pygments_lexer": "ipython3",
   "version": "3.5.2"
  }
 },
 "nbformat": 4,
 "nbformat_minor": 2
}
