{
 "cells": [
  {
   "cell_type": "code",
   "execution_count": 1,
   "metadata": {
    "collapsed": true
   },
   "outputs": [],
   "source": [
    "import tensorflow as tf\n",
    "import numpy as np\n",
    "import pandas as pd\n",
    "import matplotlib.pyplot as plt\n",
    "from matplotlib import pyplot\n",
    "import matplotlib as mpl\n",
    "import time\n",
    "\n",
    "SEED = 42\n",
    "SAMPLE_SIZE = 200000\n",
    "\n",
    "%matplotlib inline\n"
   ]
  },
  {
   "cell_type": "code",
   "execution_count": 2,
   "metadata": {},
   "outputs": [
    {
     "data": {
      "text/html": [
       "<div>\n",
       "<style>\n",
       "    .dataframe thead tr:only-child th {\n",
       "        text-align: right;\n",
       "    }\n",
       "\n",
       "    .dataframe thead th {\n",
       "        text-align: left;\n",
       "    }\n",
       "\n",
       "    .dataframe tbody tr th {\n",
       "        vertical-align: top;\n",
       "    }\n",
       "</style>\n",
       "<table border=\"1\" class=\"dataframe\">\n",
       "  <thead>\n",
       "    <tr style=\"text-align: right;\">\n",
       "      <th></th>\n",
       "      <th>quizzes</th>\n",
       "      <th>solutions</th>\n",
       "    </tr>\n",
       "  </thead>\n",
       "  <tbody>\n",
       "    <tr>\n",
       "      <th>0</th>\n",
       "      <td>0043002090050090010700600430060020871900074000...</td>\n",
       "      <td>8643712593258497619712658434361925871986574322...</td>\n",
       "    </tr>\n",
       "    <tr>\n",
       "      <th>1</th>\n",
       "      <td>0401000501070039605200080000000000170009068008...</td>\n",
       "      <td>3461792581875239645296483719658324174729168358...</td>\n",
       "    </tr>\n",
       "    <tr>\n",
       "      <th>2</th>\n",
       "      <td>6001203840084590720000060050002640300700800069...</td>\n",
       "      <td>6951273841384596727248369158512647392739815469...</td>\n",
       "    </tr>\n",
       "    <tr>\n",
       "      <th>3</th>\n",
       "      <td>4972000001004000050000160986203000403009000000...</td>\n",
       "      <td>4972583161864397252537164986293815473759641828...</td>\n",
       "    </tr>\n",
       "    <tr>\n",
       "      <th>4</th>\n",
       "      <td>0059103080094030600275001000300002010008200070...</td>\n",
       "      <td>4659123781894735623275681497386452919548216372...</td>\n",
       "    </tr>\n",
       "  </tbody>\n",
       "</table>\n",
       "</div>"
      ],
      "text/plain": [
       "                                             quizzes  \\\n",
       "0  0043002090050090010700600430060020871900074000...   \n",
       "1  0401000501070039605200080000000000170009068008...   \n",
       "2  6001203840084590720000060050002640300700800069...   \n",
       "3  4972000001004000050000160986203000403009000000...   \n",
       "4  0059103080094030600275001000300002010008200070...   \n",
       "\n",
       "                                           solutions  \n",
       "0  8643712593258497619712658434361925871986574322...  \n",
       "1  3461792581875239645296483719658324174729168358...  \n",
       "2  6951273841384596727248369158512647392739815469...  \n",
       "3  4972583161864397252537164986293815473759641828...  \n",
       "4  4659123781894735623275681497386452919548216372...  "
      ]
     },
     "execution_count": 2,
     "metadata": {},
     "output_type": "execute_result"
    }
   ],
   "source": [
    "df = pd.read_csv('./data/sudoku.csv')\n",
    "df.head()"
   ]
  },
  {
   "cell_type": "code",
   "execution_count": 3,
   "metadata": {
    "collapsed": true
   },
   "outputs": [],
   "source": [
    "def one_hot(labels, C, axis):\n",
    "    \n",
    "    with tf.device('/gpu:0'):\n",
    "        ot = tf.one_hot(labels, C, axis=axis)\n",
    "        sess = tf.Session()\n",
    "        rtn = sess.run(ot)\n",
    "    return rtn"
   ]
  },
  {
   "cell_type": "markdown",
   "metadata": {},
   "source": [
    "# chage string to -> int list "
   ]
  },
  {
   "cell_type": "code",
   "execution_count": 4,
   "metadata": {
    "collapsed": true
   },
   "outputs": [],
   "source": [
    "def load_data(df, n_sample=SAMPLE_SIZE):\n",
    "    \n",
    "    from sklearn.model_selection import train_test_split\n",
    "    \n",
    "    X=df.iloc[:n_sample,0].values\n",
    "    y=df.iloc[:n_sample,1].values\n",
    "    \n",
    "    X_int = np.zeros((X.shape[0], 9*9), np.float32)\n",
    "    y_int = np.zeros((y.shape[0], 9*9), np.float32)\n",
    "    for j in range(X.shape[0]):\n",
    "        tmp = list(X[j])\n",
    "        tmp2 = list(y[j])\n",
    "        for i in range(len(tmp)):        \n",
    "            X_int[j,i] = int(tmp[i])\n",
    "            y_int[j,i] = int(tmp2[i])\n",
    "    \n",
    "    \n",
    "    X_train, X_test, y_train, y_test = train_test_split(X_int, y_int, random_state=SEED)\n",
    "    \n",
    "    X_train_reshaped = X_train.reshape(X_train.shape[0], 9,9)\n",
    "    X_test_reshaped = X_test.reshape(X_test.shape[0], 9,9)\n",
    "    y_train_reshaped = y_train.reshape(y_train.shape[0], 9,9)\n",
    "    y_test_reshaped = y_test.reshape(y_test.shape[0], 9,9)\n",
    "    \n",
    "    X_train_one = one_hot(X_train_reshaped, 10, 3)\n",
    "    X_test_one = one_hot(X_test_reshaped, 10, 3)\n",
    "    y_train_one = one_hot(y_train_reshaped, 10, 3)\n",
    "    y_test_one = one_hot(y_test_reshaped, 10, 3)\n",
    "\n",
    "    return X_train_one, X_test_one, y_train_one, y_test_one\n",
    "    "
   ]
  },
  {
   "cell_type": "code",
   "execution_count": 5,
   "metadata": {},
   "outputs": [
    {
     "name": "stdout",
     "output_type": "stream",
     "text": [
      "(150000, 9, 9, 10)\n",
      "(50000, 9, 9, 10)\n",
      "Load Completed\n"
     ]
    }
   ],
   "source": [
    "X_train_one, X_test_one, y_train_one, y_test_one = load_data(df, n_sample=SAMPLE_SIZE)\n",
    "\n",
    "print (X_train_one.shape)\n",
    "print (y_test_one.shape)\n",
    "print ('Load Completed')"
   ]
  },
  {
   "cell_type": "code",
   "execution_count": 44,
   "metadata": {
    "collapsed": true
   },
   "outputs": [],
   "source": [
    "def cal_accuracy(out, y):\n",
    "    corr = np.mean(np.equal(np.argmax(out, axis=-1), np.argmax(y, axis=-1)))\n",
    "    return (corr)\n"
   ]
  },
  {
   "cell_type": "markdown",
   "metadata": {},
   "source": [
    "# This wiil be the Base Accuracy "
   ]
  },
  {
   "cell_type": "code",
   "execution_count": 54,
   "metadata": {},
   "outputs": [
    {
     "data": {
      "text/plain": [
       "0.41744823045267487"
      ]
     },
     "execution_count": 54,
     "metadata": {},
     "output_type": "execute_result"
    }
   ],
   "source": [
    "cal_accuracy(X_train_one, y_train_one)"
   ]
  },
  {
   "cell_type": "code",
   "execution_count": 55,
   "metadata": {},
   "outputs": [
    {
     "data": {
      "text/plain": [
       "0.41748197530864195"
      ]
     },
     "execution_count": 55,
     "metadata": {},
     "output_type": "execute_result"
    }
   ],
   "source": [
    "cal_accuracy(X_test_one, y_test_one)"
   ]
  },
  {
   "cell_type": "code",
   "execution_count": 21,
   "metadata": {},
   "outputs": [
    {
     "name": "stdout",
     "output_type": "stream",
     "text": [
      "150000 9 9 10\n"
     ]
    }
   ],
   "source": [
    "n_sample, height, width, channels = X_train_one.shape\n",
    "print (n_sample, height, width, channels)\n",
    "L_RATE = 0.001\n",
    "n_conv_layer = 8\n",
    "\n",
    "\n",
    "conv1_features = 64\n",
    "conv1_filters = 3\n",
    "conv1_stride = 1\n",
    "conv1_padding = \"SAME\"\n",
    "\n",
    "conv_features = 64\n",
    "conv_filters = 3\n",
    "conv_stride = 1\n",
    "conv_padding = \"SAME\"\n",
    "\n",
    "\n",
    "conv2_features = 64\n",
    "conv2_filters = 3\n",
    "conv2_stride = 1\n",
    "conv2_padding = \"SAME\"\n",
    "\n",
    "conv3_features = 32\n",
    "conv3_filters = 3\n",
    "conv3_stride = 1\n",
    "conv3_padding = \"SAME\"\n",
    "\n",
    "conv4_features = 10\n",
    "conv4_filters = 3\n",
    "conv4_stride = 1\n",
    "conv4_padding = \"SAME\"\n",
    "\n",
    "n_fc1 = 9*9\n",
    "n_output_layers = 81"
   ]
  },
  {
   "cell_type": "code",
   "execution_count": 22,
   "metadata": {
    "collapsed": true
   },
   "outputs": [],
   "source": [
    "tf.set_random_seed(SEED)\n",
    "np.random.seed(SEED)\n",
    "tf.reset_default_graph()\n",
    "\n",
    "with tf.name_scope(\"inputs\"):\n",
    "    X = tf.placeholder(tf.float32, shape=[None, height, width, channels], name=\"X\")\n",
    "    y = tf.placeholder(tf.float32, shape=[None, height, width, 10], name=\"y\")\n",
    "\n",
    "with tf.name_scope(\"conv1\"):\n",
    "    conv = tf.layers.conv2d(X, filters=conv1_features, kernel_size=conv1_filters,\n",
    "                         strides=conv1_stride, padding=conv1_padding,\n",
    "                         activation=tf.nn.relu, name=\"conv1\")\n",
    "\n",
    "for i in range(n_conv_layer):\n",
    "    \n",
    "    with tf.name_scope(\"conv_l\"):\n",
    "        conv = tf.layers.conv2d(conv, filters=conv_features, kernel_size=conv_filters,\n",
    "                         strides=conv_stride, padding=conv_padding,\n",
    "                         activation=tf.nn.relu, name=\"conv_{}\".format(i))\n",
    "    \n",
    "#with tf.name_scope(\"conv3\"):\n",
    "#    conv3 = tf.layers.conv2d(conv, filters=conv3_features, kernel_size=conv3_filters,\n",
    "#                         strides=conv3_stride, padding=conv3_padding,\n",
    "#                         activation=tf.nn.relu, name=\"conv3\")\n",
    "    \n",
    "with tf.name_scope(\"conv4\"):\n",
    "    conv4 = tf.layers.conv2d(conv, filters=conv4_features, kernel_size=conv4_filters,\n",
    "                         strides=conv4_stride, padding=conv4_padding,\n",
    "                         activation=tf.nn.relu, name=\"conv4\")\n",
    "\n",
    "with tf.name_scope(\"softmax\"):\n",
    "#    max_layer = tf.argmax(conv4, axis=3)\n",
    "    #max_layer = tf.reduce_max(conv4, axis=3)\n",
    "#    logits = tf.to_int32(tf.reshape(max_layer, shape=[-1, n_fc1], name='output'))\n",
    "    logits = tf.nn.softmax(conv4, dim = 3)\n",
    "\n",
    "#with tf.name_scope(\"fc1\"):\n",
    "#    conv3_flat = tf.reshape(max_layer, shape=[-1, n_fc1])\n",
    "\n",
    "#    fc1 = tf.layers.dense(conv3_flat, n_fc1, activation=tf.nn.relu, name=\"fc1\")\n",
    "    \n",
    "#with tf.name_scope(\"output\"):\n",
    "#    logits = tf.reshape(max_layer, shape=[-1, n_fc1], name='output') # tf.layers.dense(fc1, n_output_layers, name=\"output\")\n",
    "    "
   ]
  },
  {
   "cell_type": "code",
   "execution_count": 50,
   "metadata": {},
   "outputs": [],
   "source": [
    "with tf.device(\"/gpu:0\"):\n",
    "    cost = tf.reduce_sum(tf.losses.mean_squared_error(y, logits))\n",
    "    optimizer = tf.train.AdamOptimizer(learning_rate = L_RATE).minimize(cost)\n",
    "\n",
    "with tf.name_scope(\"eval\"):\n",
    "    correct_prediction = tf.equal(tf.argmax(logits, axis=-1), tf.argmax(y, axis=-1))\n",
    "\n",
    "    #accuracy = tf.reduce_mean(correct_prediction, axis=None)\n",
    "    accuracy = tf.reduce_mean(tf.cast(correct_prediction, tf.float32))\n",
    "\n",
    "with tf.name_scope(\"init\"):\n",
    "    init = tf.global_variables_initializer()"
   ]
  },
  {
   "cell_type": "code",
   "execution_count": 51,
   "metadata": {},
   "outputs": [
    {
     "name": "stdout",
     "output_type": "stream",
     "text": [
      "(?, 9, 9, 10)\n",
      "(?, 9, 9, 10)\n",
      "(?, 9, 9, 10)\n",
      "(?, 9, 9)\n"
     ]
    }
   ],
   "source": [
    "print (conv4.shape)\n",
    "print (logits.shape)\n",
    "print (y.shape)\n",
    "print (correct_prediction.shape)"
   ]
  },
  {
   "cell_type": "code",
   "execution_count": 58,
   "metadata": {},
   "outputs": [
    {
     "name": "stdout",
     "output_type": "stream",
     "text": [
      "Epoch 0: Time - 16.00 s Cost - 2.5351 Train Acc - 37.77 Test Acc - 72.12\n",
      "Epoch 1: Time - 15.97 s Cost - 2.0427 Train Acc - 38.92 Test Acc - 74.66\n",
      "Epoch 2: Time - 15.96 s Cost - 1.9168 Train Acc - 39.50 Test Acc - 75.93\n",
      "Epoch 3: Time - 15.95 s Cost - 1.8499 Train Acc - 39.86 Test Acc - 76.75\n",
      "Epoch 4: Time - 15.93 s Cost - 1.7966 Train Acc - 40.11 Test Acc - 77.28\n",
      "Epoch 5: Time - 15.91 s Cost - 1.7452 Train Acc - 40.40 Test Acc - 77.94\n",
      "Epoch 6: Time - 15.93 s Cost - 1.6702 Train Acc - 41.09 Test Acc - 79.51\n",
      "Epoch 7: Time - 15.94 s Cost - 1.5639 Train Acc - 41.86 Test Acc - 81.28\n",
      "Epoch 8: Time - 15.91 s Cost - 1.4572 Train Acc - 42.23 Test Acc - 82.12\n",
      "Epoch 9: Time - 15.92 s Cost - 1.3933 Train Acc - 42.52 Test Acc - 82.81\n"
     ]
    },
    {
     "data": {
      "image/png": "[encoded data removed]",
      "text/plain": [
       "<matplotlib.figure.Figure at 0x7f4d288da198>"
      ]
     },
     "metadata": {},
     "output_type": "display_data"
    }
   ],
   "source": [
    "n_epochs = 10\n",
    "batch_size = 50\n",
    "m = len(X_train_one)\n",
    "\n",
    "cost_list =[]\n",
    "train_acc_list=[]\n",
    "test_acc_list=[]\n",
    "\n",
    "with tf.Session() as sess:\n",
    "    init.run()\n",
    "    for epoch in range(n_epochs):\n",
    "        epoch_cost = 0\n",
    "        start_tm = time.time()\n",
    "        \n",
    "        for iteration in range(m // batch_size):\n",
    "            X_batch = X_train_one[iteration*batch_size:(iteration+1)*batch_size]\n",
    "            y_batch = y_train_one[iteration*batch_size:(iteration+1)*batch_size]\n",
    "            _, batch_cost = sess.run([optimizer, cost], feed_dict={X: X_batch, y: y_batch})\n",
    "            epoch_cost += batch_cost / batch_size\n",
    "        \n",
    "        epoch_train_acc = accuracy.eval({X: X_train_one, y: y_train_one})\n",
    "        epoch_test_acc = accuracy.eval({X: X_test_one, y: y_test_one})\n",
    "        \n",
    "        cost_list.append(epoch_cost)\n",
    "        train_acc_list.append(epoch_train_acc)\n",
    "        test_acc_list.append(epoch_test_acc)\n",
    "        \n",
    "        end_tm = time.time()\n",
    "        \n",
    "        \n",
    "        print ('Epoch %i: Time - %0.2f s Cost - %0.4f Train Acc - %0.2f Test Acc - %0.2f' \n",
    "               % (epoch, (end_tm-start_tm), epoch_cost, 100*epoch_train_acc, 100*epoch_test_acc) )\n",
    "        \n",
    "    out_tmp = logits.eval({X: X_test_one[:3], y: y_test_one[:3]})\n",
    "    \n",
    "    \n",
    "fig, ax = plt.subplots(ncols=2)\n",
    "ax[0].plot(np.squeeze(cost_list))\n",
    "ax[0].set_ylabel('cost')\n",
    "ax[0].set_xlabel('Epoch Number')\n",
    "ax[0].set_title(\"Learning rate =\" + str(L_RATE))\n",
    "\n",
    "ax[1].plot(train_acc_list, label=\"Train Acc\")\n",
    "ax[1].plot(test_acc_list, label=\"Test Acc\")\n",
    "ax[1].set_xlabel('Epoch Number')\n",
    "ax[1].set_title(\"Accuracy \")\n",
    "ax[1].legend()\n",
    "\n",
    "plt.show()"
   ]
  },
  {
   "cell_type": "markdown",
   "metadata": {},
   "source": [
    "# Model valid test "
   ]
  },
  {
   "cell_type": "markdown",
   "metadata": {},
   "source": [
    "Input X_test array"
   ]
  },
  {
   "cell_type": "code",
   "execution_count": 62,
   "metadata": {},
   "outputs": [
    {
     "data": {
      "text/plain": [
       "array([[[4, 0, 0, 6, 0, 0, 1, 0, 8],\n",
       "        [0, 2, 7, 3, 5, 0, 0, 6, 9],\n",
       "        [0, 0, 9, 0, 0, 7, 0, 0, 0],\n",
       "        [2, 4, 0, 1, 0, 5, 0, 0, 7],\n",
       "        [7, 0, 3, 0, 4, 0, 6, 0, 0],\n",
       "        [0, 0, 0, 0, 8, 0, 0, 0, 2],\n",
       "        [5, 0, 0, 8, 2, 0, 0, 0, 0],\n",
       "        [3, 0, 1, 9, 0, 0, 8, 0, 5],\n",
       "        [0, 0, 0, 0, 0, 6, 9, 1, 0]],\n",
       "\n",
       "       [[4, 0, 6, 8, 0, 0, 0, 0, 3],\n",
       "        [0, 3, 1, 0, 5, 0, 0, 2, 0],\n",
       "        [5, 0, 9, 0, 6, 0, 0, 0, 0],\n",
       "        [0, 0, 0, 4, 0, 9, 5, 0, 0],\n",
       "        [1, 0, 0, 0, 0, 2, 0, 0, 7],\n",
       "        [8, 0, 2, 0, 0, 0, 4, 1, 0],\n",
       "        [2, 0, 0, 0, 9, 0, 6, 0, 0],\n",
       "        [6, 0, 8, 3, 0, 0, 1, 9, 4],\n",
       "        [0, 0, 0, 0, 0, 7, 0, 3, 8]],\n",
       "\n",
       "       [[0, 0, 0, 5, 0, 2, 4, 0, 0],\n",
       "        [0, 0, 0, 0, 0, 6, 1, 0, 3],\n",
       "        [0, 7, 8, 0, 3, 9, 0, 0, 6],\n",
       "        [0, 3, 5, 0, 1, 0, 7, 2, 0],\n",
       "        [0, 9, 0, 0, 0, 0, 0, 0, 4],\n",
       "        [1, 0, 6, 9, 0, 7, 8, 0, 0],\n",
       "        [9, 2, 0, 0, 0, 5, 3, 0, 0],\n",
       "        [0, 1, 0, 0, 4, 3, 0, 6, 8],\n",
       "        [0, 0, 0, 7, 0, 0, 5, 0, 0]]])"
      ]
     },
     "execution_count": 62,
     "metadata": {},
     "output_type": "execute_result"
    }
   ],
   "source": [
    "np.argmax(X_test_one[:3], axis=-1)"
   ]
  },
  {
   "cell_type": "markdown",
   "metadata": {},
   "source": [
    "Predicted Logits array"
   ]
  },
  {
   "cell_type": "code",
   "execution_count": 60,
   "metadata": {},
   "outputs": [
    {
     "data": {
      "text/plain": [
       "array([[[4, 3, 5, 6, 9, 2, 1, 7, 8],\n",
       "        [1, 2, 7, 3, 5, 1, 4, 6, 9],\n",
       "        [6, 6, 9, 4, 1, 7, 2, 2, 4],\n",
       "        [2, 4, 8, 1, 6, 5, 3, 8, 7],\n",
       "        [7, 8, 3, 2, 4, 2, 6, 5, 1],\n",
       "        [6, 5, 5, 7, 8, 3, 5, 4, 2],\n",
       "        [5, 9, 4, 8, 2, 1, 7, 7, 6],\n",
       "        [3, 6, 1, 9, 7, 4, 8, 2, 5],\n",
       "        [8, 8, 4, 5, 7, 6, 9, 1, 4]],\n",
       "\n",
       "       [[4, 2, 6, 8, 1, 1, 9, 5, 3],\n",
       "        [7, 3, 1, 9, 5, 4, 8, 2, 6],\n",
       "        [5, 8, 9, 2, 6, 3, 8, 8, 1],\n",
       "        [3, 6, 7, 4, 7, 9, 5, 6, 1],\n",
       "        [1, 6, 5, 5, 8, 2, 3, 6, 7],\n",
       "        [8, 5, 2, 5, 3, 5, 4, 1, 9],\n",
       "        [2, 1, 4, 1, 9, 8, 6, 5, 5],\n",
       "        [6, 5, 8, 3, 2, 5, 1, 9, 4],\n",
       "        [9, 1, 5, 5, 4, 7, 2, 3, 8]],\n",
       "\n",
       "       [[6, 6, 1, 5, 7, 2, 4, 8, 9],\n",
       "        [5, 4, 9, 8, 7, 6, 1, 8, 3],\n",
       "        [5, 7, 8, 1, 3, 9, 2, 5, 6],\n",
       "        [8, 3, 5, 6, 1, 4, 7, 2, 9],\n",
       "        [8, 9, 2, 3, 5, 8, 6, 1, 4],\n",
       "        [1, 4, 6, 9, 5, 7, 8, 3, 5],\n",
       "        [9, 2, 4, 8, 6, 5, 3, 4, 7],\n",
       "        [5, 1, 5, 2, 4, 3, 2, 6, 8],\n",
       "        [3, 8, 3, 7, 9, 1, 5, 4, 9]]])"
      ]
     },
     "execution_count": 60,
     "metadata": {},
     "output_type": "execute_result"
    }
   ],
   "source": [
    "np.argmax(out_tmp, axis=-1)"
   ]
  },
  {
   "cell_type": "markdown",
   "metadata": {},
   "source": [
    "Target Array"
   ]
  },
  {
   "cell_type": "code",
   "execution_count": 61,
   "metadata": {},
   "outputs": [
    {
     "data": {
      "text/plain": [
       "array([[[4, 3, 5, 6, 9, 2, 1, 7, 8],\n",
       "        [1, 2, 7, 3, 5, 8, 4, 6, 9],\n",
       "        [6, 8, 9, 4, 1, 7, 2, 5, 3],\n",
       "        [2, 4, 8, 1, 6, 5, 3, 9, 7],\n",
       "        [7, 5, 3, 2, 4, 9, 6, 8, 1],\n",
       "        [9, 1, 6, 7, 8, 3, 5, 4, 2],\n",
       "        [5, 9, 4, 8, 2, 1, 7, 3, 6],\n",
       "        [3, 6, 1, 9, 7, 4, 8, 2, 5],\n",
       "        [8, 7, 2, 5, 3, 6, 9, 1, 4]],\n",
       "\n",
       "       [[4, 2, 6, 8, 7, 1, 9, 5, 3],\n",
       "        [7, 3, 1, 9, 5, 4, 8, 2, 6],\n",
       "        [5, 8, 9, 2, 6, 3, 7, 4, 1],\n",
       "        [3, 6, 7, 4, 1, 9, 5, 8, 2],\n",
       "        [1, 9, 4, 5, 8, 2, 3, 6, 7],\n",
       "        [8, 5, 2, 7, 3, 6, 4, 1, 9],\n",
       "        [2, 4, 3, 1, 9, 8, 6, 7, 5],\n",
       "        [6, 7, 8, 3, 2, 5, 1, 9, 4],\n",
       "        [9, 1, 5, 6, 4, 7, 2, 3, 8]],\n",
       "\n",
       "       [[3, 6, 1, 5, 8, 2, 4, 9, 7],\n",
       "        [2, 5, 9, 4, 7, 6, 1, 8, 3],\n",
       "        [4, 7, 8, 1, 3, 9, 2, 5, 6],\n",
       "        [8, 3, 5, 6, 1, 4, 7, 2, 9],\n",
       "        [7, 9, 2, 3, 5, 8, 6, 1, 4],\n",
       "        [1, 4, 6, 9, 2, 7, 8, 3, 5],\n",
       "        [9, 2, 4, 8, 6, 5, 3, 7, 1],\n",
       "        [5, 1, 7, 2, 4, 3, 9, 6, 8],\n",
       "        [6, 8, 3, 7, 9, 1, 5, 4, 2]]])"
      ]
     },
     "execution_count": 61,
     "metadata": {},
     "output_type": "execute_result"
    }
   ],
   "source": [
    "np.argmax(y_test_one[:3], axis=-1)"
   ]
  },
  {
   "cell_type": "code",
   "execution_count": null,
   "metadata": {
    "collapsed": true
   },
   "outputs": [],
   "source": []
  }
 ],
 "metadata": {
  "kernelspec": {
   "display_name": "Python 3",
   "language": "python",
   "name": "python3"
  },
  "language_info": {
   "codemirror_mode": {
    "name": "ipython",
    "version": 3
   },
   "file_extension": ".py",
   "mimetype": "text/x-python",
   "name": "python",
   "nbconvert_exporter": "python",
   "pygments_lexer": "ipython3",
   "version": "3.5.2"
  }
 },
 "nbformat": 4,
 "nbformat_minor": 2
}
