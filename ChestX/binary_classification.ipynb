{
 "cells": [
  {
   "cell_type": "code",
   "execution_count": 27,
   "metadata": {},
   "outputs": [
    {
     "name": "stdout",
     "output_type": "stream",
     "text": [
      "Dir already, files removed!!\n"
     ]
    }
   ],
   "source": [
    "import numpy as np\n",
    "import pandas as pd\n",
    "\n",
    "import tensorflow as tf\n",
    "import keras\n",
    "import keras.backend as K\n",
    "import matplotlib.pyplot as plt\n",
    "from sklearn.metrics import roc_auc_score\n",
    "\n",
    "pd.options.display.max_columns = 100\n",
    "\n",
    "%matplotlib inline\n",
    "\n",
    "from keras.applications import VGG16\n",
    "from keras.applications import InceptionV3\n",
    "from keras.applications import ResNet50\n",
    "#from keras.applications import DenseNet121\n",
    "\n",
    "K.clear_session()\n",
    "\n",
    "from keras import models \n",
    "from keras import layers \n",
    "\n",
    "import os, shutil\n",
    "import glob\n",
    "\n",
    "\n",
    "VGG = True\n",
    "ALL_LAYER_TRAIN = True\n",
    "graph_dir = '20180228_2'\n",
    "TEST_LABEL = 'Atelectasis'\n",
    "\n",
    "tf_graph_dir='./tfgraph/'+graph_dir\n",
    "\n",
    "\n",
    "\n",
    "try:\n",
    "    os.makedirs(tf_graph_dir)\n",
    "    print ('Dir Created!!')\n",
    "except:\n",
    "    os.system('rm '+tf_graph_dir+'/*')\n",
    "    print ('Dir already, files removed!!')\n",
    " \n"
   ]
  },
  {
   "cell_type": "code",
   "execution_count": 12,
   "metadata": {},
   "outputs": [
    {
     "name": "stdout",
     "output_type": "stream",
     "text": [
      "_________________________________________________________________\n",
      "Layer (type)                 Output Shape              Param #   \n",
      "=================================================================\n",
      "input_1 (InputLayer)         (None, 150, 150, 3)       0         \n",
      "_________________________________________________________________\n",
      "block1_conv1 (Conv2D)        (None, 150, 150, 64)      1792      \n",
      "_________________________________________________________________\n",
      "block1_conv2 (Conv2D)        (None, 150, 150, 64)      36928     \n",
      "_________________________________________________________________\n",
      "block1_pool (MaxPooling2D)   (None, 75, 75, 64)        0         \n",
      "_________________________________________________________________\n",
      "block2_conv1 (Conv2D)        (None, 75, 75, 128)       73856     \n",
      "_________________________________________________________________\n",
      "block2_conv2 (Conv2D)        (None, 75, 75, 128)       147584    \n",
      "_________________________________________________________________\n",
      "block2_pool (MaxPooling2D)   (None, 37, 37, 128)       0         \n",
      "_________________________________________________________________\n",
      "block3_conv1 (Conv2D)        (None, 37, 37, 256)       295168    \n",
      "_________________________________________________________________\n",
      "block3_conv2 (Conv2D)        (None, 37, 37, 256)       590080    \n",
      "_________________________________________________________________\n",
      "block3_conv3 (Conv2D)        (None, 37, 37, 256)       590080    \n",
      "_________________________________________________________________\n",
      "block3_pool (MaxPooling2D)   (None, 18, 18, 256)       0         \n",
      "_________________________________________________________________\n",
      "block4_conv1 (Conv2D)        (None, 18, 18, 512)       1180160   \n",
      "_________________________________________________________________\n",
      "block4_conv2 (Conv2D)        (None, 18, 18, 512)       2359808   \n",
      "_________________________________________________________________\n",
      "block4_conv3 (Conv2D)        (None, 18, 18, 512)       2359808   \n",
      "_________________________________________________________________\n",
      "block4_pool (MaxPooling2D)   (None, 9, 9, 512)         0         \n",
      "_________________________________________________________________\n",
      "block5_conv1 (Conv2D)        (None, 9, 9, 512)         2359808   \n",
      "_________________________________________________________________\n",
      "block5_conv2 (Conv2D)        (None, 9, 9, 512)         2359808   \n",
      "_________________________________________________________________\n",
      "block5_conv3 (Conv2D)        (None, 9, 9, 512)         2359808   \n",
      "_________________________________________________________________\n",
      "block5_pool (MaxPooling2D)   (None, 4, 4, 512)         0         \n",
      "=================================================================\n",
      "Total params: 14,714,688\n",
      "Trainable params: 14,714,688\n",
      "Non-trainable params: 0\n",
      "_________________________________________________________________\n"
     ]
    }
   ],
   "source": [
    "\n",
    "\n",
    "K.clear_session()\n",
    "\n",
    "if VGG :\n",
    "    IMG_SIZE = 150\n",
    "    LAYER_NAME = 'block5_conv1'\n",
    "    conv_base = VGG16(weights='imagenet', include_top=False, input_shape=(IMG_SIZE,IMG_SIZE,3))\n",
    "else:\n",
    "    IMG_SIZE = 197\n",
    "    LAYER_NAME = 'res5a_branch2a'\n",
    "    conv_base = ResNet50(weights='imagenet', include_top=False, input_shape=(IMG_SIZE,IMG_SIZE,3))\n",
    "\n",
    "conv_base.summary()\n",
    "\n",
    "\n"
   ]
  },
  {
   "cell_type": "code",
   "execution_count": 13,
   "metadata": {},
   "outputs": [],
   "source": [
    "\n",
    "\n",
    "\n",
    "from keras.preprocessing.image import ImageDataGenerator\n",
    "from keras import optimizers\n",
    "\n",
    "\n",
    "\n"
   ]
  },
  {
   "cell_type": "code",
   "execution_count": 14,
   "metadata": {},
   "outputs": [],
   "source": [
    "\n",
    "conv_base.trainable = True\n",
    "\n",
    "if ALL_LAYER_TRAIN :\n",
    "    \n",
    "    set_trainable = False\n",
    "    for layer in conv_base.layers:\n",
    "        if layer.name == LAYER_NAME:\n",
    "            set_trainable = True\n",
    "        if set_trainable:\n",
    "            layer.trainable = True\n",
    "        else:\n",
    "            layer.trainable = False\n",
    "\n",
    "            "
   ]
  },
  {
   "cell_type": "code",
   "execution_count": 28,
   "metadata": {},
   "outputs": [],
   "source": [
    "\n",
    "_dir = '/data/private/noah/medi_image/data/binary/'\n",
    "base_dir = os.path.join(_dir, TEST_LABEL)\n",
    "\n",
    "train_dir = os.path.join(base_dir, 'train')\n",
    "valid_dir = os.path.join(base_dir, 'test')\n",
    "test_dir = os.path.join(base_dir, 'test')\n",
    "\n",
    "label_name = ['Atelectasis' , 'Cardiomegaly', 'Effusion'\n",
    "              , 'Infiltration', 'Mass', 'Nodule'\n",
    "              , 'Pneumonia', 'Pneumothorax', 'Consolidation'\n",
    "              , 'Edema', 'Emphysema', 'Fibrosis'\n",
    "              , 'Pleural_Thickening', 'Hernia', 'None']\n",
    "\n",
    "NUM_CLASSES = len(label_name)\n",
    "\n",
    "\n"
   ]
  },
  {
   "cell_type": "code",
   "execution_count": 29,
   "metadata": {},
   "outputs": [
    {
     "name": "stdout",
     "output_type": "stream",
     "text": [
      "Test Labe :  Atelectasis\n",
      "Train Label -  8280 None -  50500\n",
      "Train Label : 85.91 %\n",
      "Valid Label -  3279 None -  9861\n",
      "Valid Label : 75.05 %\n"
     ]
    }
   ],
   "source": [
    "\n",
    "## Get Number of Files \n",
    "\n",
    "print ('Test Labe : ', TEST_LABEL)\n",
    "\n",
    "tmp_ts_label = os.path.join(train_dir,TEST_LABEL)\n",
    "list_file = glob.glob(tmp_ts_label+'/*.png')\n",
    "train_label_file_num = len(list_file)\n",
    "tmp_ts_label = os.path.join(train_dir,'None')\n",
    "list_file = glob.glob(tmp_ts_label+'/*.png')\n",
    "train_none_file_num = len(list_file)\n",
    "print ('Train Label - ', train_label_file_num, 'None - ', train_none_file_num)\n",
    "print ('Train Label : %0.2f'%(100*(float)(train_none_file_num/(train_label_file_num+train_none_file_num))),\"%\")\n",
    "\n",
    "tmp_ts_label = os.path.join(valid_dir,TEST_LABEL)\n",
    "list_file = glob.glob(tmp_ts_label+'/*.png')\n",
    "train_label_file_num = len(list_file)\n",
    "tmp_ts_label = os.path.join(valid_dir,'None')\n",
    "list_file = glob.glob(tmp_ts_label+'/*.png')\n",
    "train_none_file_num = len(list_file)\n",
    "print ('Valid Label - ', train_label_file_num, 'None - ', train_none_file_num)\n",
    "print ('Valid Label : %0.2f'%(100*(float)(train_none_file_num/(train_label_file_num+train_none_file_num))),\"%\")\n",
    "\n",
    "#tmp_ts_label = os.path.join(valid_dir,TEST_LABEL)\n",
    "#list_file = glob.glob(tmp_ts_label+'/*.png')\n",
    "\n",
    "\n",
    "\n",
    "\n"
   ]
  },
  {
   "cell_type": "code",
   "execution_count": 6,
   "metadata": {},
   "outputs": [
    {
     "name": "stdout",
     "output_type": "stream",
     "text": [
      "_________________________________________________________________\n",
      "Layer (type)                 Output Shape              Param #   \n",
      "=================================================================\n",
      "resnet50 (Model)             (None, 1, 1, 2048)        23587712  \n",
      "_________________________________________________________________\n",
      "flatten_1 (Flatten)          (None, 2048)              0         \n",
      "_________________________________________________________________\n",
      "dense_1 (Dense)              (None, 512)               1049088   \n",
      "_________________________________________________________________\n",
      "dense_2 (Dense)              (None, 1)                 513       \n",
      "=================================================================\n",
      "Total params: 24,637,313\n",
      "Trainable params: 16,025,601\n",
      "Non-trainable params: 8,611,712\n",
      "_________________________________________________________________\n"
     ]
    }
   ],
   "source": [
    "with tf.device(\"/gpu:0\"):\n",
    "    \n",
    "    model = models.Sequential()\n",
    "    model.add()\n",
    "    model.add(conv_base)\n",
    "    model.add(layers.Flatten())\n",
    "#    model.add(layers.Dropout(0.5))\n",
    "    model.add(layers.Dense(512,activation='relu'))\n",
    "#    model.add(layers.Dense(256,activation='relu'))\n",
    "#    model.add(layers.Dense(NUM_CLASSES, activation='softmax'))\n",
    "    model.add(layers.Dense(1, activation='sigmoid'))\n",
    "    \n",
    "model.summary()\n",
    "\n"
   ]
  },
  {
   "cell_type": "code",
   "execution_count": 8,
   "metadata": {},
   "outputs": [
    {
     "name": "stdout",
     "output_type": "stream",
     "text": [
      "Found 64282 images belonging to 2 classes.\n",
      "Found 15973 images belonging to 2 classes.\n",
      "Epoch 1/2\n",
      "100/100 [==============================] - 60s 603ms/step - loss: 0.5135 - acc: 0.7900 - val_loss: 0.7917 - val_acc: 0.6175\n",
      "Epoch 2/2\n",
      "100/100 [==============================] - 54s 540ms/step - loss: 0.5104 - acc: 0.7756 - val_loss: 0.7988 - val_acc: 0.6175\n"
     ]
    }
   ],
   "source": [
    "\n",
    "train_datagen = ImageDataGenerator(\n",
    "    rescale=1./255,\n",
    "    rotation_range=40,\n",
    "    width_shift_range=0.2,\n",
    "    height_shift_range=0.2,\n",
    "    shear_range=0.2,\n",
    "    zoom_range=0.2,\n",
    "    horizontal_flip=True,\n",
    "    fill_mode='nearest')\n",
    "\n",
    "test_dataget = ImageDataGenerator(rescale=1./255)\n",
    "\n",
    "train_generator = train_datagen.flow_from_directory(\n",
    "    train_dir,\n",
    "    target_size=(IMG_SIZE,IMG_SIZE),\n",
    "    batch_size=16,\n",
    "    class_mode='binary') #'binary')\n",
    "\n",
    "vlaid_generator = test_dataget.flow_from_directory(\n",
    "    valid_dir,\n",
    "    target_size=(IMG_SIZE,IMG_SIZE),\n",
    "    batch_size=16,\n",
    "    class_mode='binary' ) #'binary')\n",
    "\n",
    "with tf.device(\"/gpu:0\"):\n",
    "    model.compile(loss='binary_crossentropy', \n",
    "                optimizer = optimizers.RMSprop(lr=1e-5),\n",
    "                 metrics=['accuracy'])\n",
    "\n",
    "    tb_hist = keras.callbacks.TensorBoard(log_dir=tf_graph_dir, histogram_freq=0, write_graph=True, write_images=True)\n",
    "\n",
    "    history = model.fit_generator(\n",
    "        train_generator,\n",
    "        steps_per_epoch=100,\n",
    "        epochs=2,\n",
    "        validation_data=vlaid_generator,\n",
    "        validation_steps=50,\n",
    "        callbacks=[tb_hist])\n",
    "\n"
   ]
  },
  {
   "cell_type": "code",
   "execution_count": null,
   "metadata": {},
   "outputs": [],
   "source": [
    "model.predict(vlaid_generator)"
   ]
  },
  {
   "cell_type": "code",
   "execution_count": 19,
   "metadata": {},
   "outputs": [
    {
     "data": {
      "text/plain": [
       "<keras.preprocessing.image.DirectoryIterator at 0x7fd6804cd9e8>"
      ]
     },
     "execution_count": 19,
     "metadata": {},
     "output_type": "execute_result"
    }
   ],
   "source": [
    "\n",
    "vlaid_generator\n"
   ]
  },
  {
   "cell_type": "code",
   "execution_count": null,
   "metadata": {},
   "outputs": [],
   "source": []
  }
 ],
 "metadata": {
  "kernelspec": {
   "display_name": "Python 3",
   "language": "python",
   "name": "python3"
  },
  "language_info": {
   "codemirror_mode": {
    "name": "ipython",
    "version": 3
   },
   "file_extension": ".py",
   "mimetype": "text/x-python",
   "name": "python",
   "nbconvert_exporter": "python",
   "pygments_lexer": "ipython3",
   "version": "3.5.2"
  }
 },
 "nbformat": 4,
 "nbformat_minor": 2
}
