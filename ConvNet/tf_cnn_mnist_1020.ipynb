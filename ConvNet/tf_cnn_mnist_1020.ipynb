{
 "cells": [
  {
   "cell_type": "code",
   "execution_count": 1,
   "metadata": {
    "_cell_guid": "c85b3aaa-c633-4962-81e5-8002a76a91d5",
    "_uuid": "0aee11cc0d16e18f8e4c7103ade6d0e3fcf714a6",
    "collapsed": false
   },
   "outputs": [
    {
     "name": "stdout",
     "output_type": "stream",
     "text": [
      "sample_submission.csv\n",
      "t10k-images-idx3-ubyte.gz\n",
      "t10k-labels-idx1-ubyte.gz\n",
      "test.csv\n",
      "train-images-idx3-ubyte.gz\n",
      "train-labels-idx1-ubyte.gz\n",
      "train.csv\n",
      "\n"
     ]
    }
   ],
   "source": [
    "# This Python 3 environment comes with many helpful analytics libraries installed\n",
    "# It is defined by the kaggle/python docker image: https://github.com/kaggle/docker-python\n",
    "# For example, here's several helpful packages to load in \n",
    "\n",
    "import tensorflow as tf\n",
    "import numpy as np\n",
    "import pandas as pd\n",
    "import matplotlib.pyplot as plt\n",
    "from matplotlib import pyplot\n",
    "import matplotlib as mpl\n",
    "\n",
    "\n",
    "%matplotlib inline\n",
    "\n",
    "# Input data files are available in the \"../input/\" directory.\n",
    "# For example, running this (by clicking run or pressing Shift+Enter) will list the files in the input directory\n",
    "\n",
    "from subprocess import check_output\n",
    "print(check_output([\"ls\", \"./data\"]).decode(\"utf8\"))\n",
    "\n",
    "# Any results you write to the current directory are saved as output."
   ]
  },
  {
   "cell_type": "code",
   "execution_count": 2,
   "metadata": {
    "_uuid": "f1fd527e031b53549c51632a55b5267cc30629a6",
    "collapsed": true
   },
   "outputs": [],
   "source": [
    "\n",
    "def plot_image(image):\n",
    "    plt.imshow(image, cmap=\"gray\", interpolation=\"nearest\")\n",
    "    plt.axis(\"off\")\n",
    "\n",
    "def plot_color_image(image):\n",
    "    plt.imshow(image.astype(np.uint8),interpolation=\"nearest\")\n",
    "    plt.axis(\"off\")\n",
    "\n",
    "def reset_graph(seed=42):\n",
    "    tf.reset_default_graph()\n",
    "    tf.set_random_seed(seed)\n",
    "    np.random.seed(seed)\n",
    "    \n",
    "def one_hot_matrix(labels, C):\n",
    "    \"\"\"\n",
    "    Creates a matrix where the i-th row corresponds to the ith class number and the jth column\n",
    "                     corresponds to the jth training example. So if example j had a label i. Then entry (i,j) \n",
    "                     will be 1. \n",
    "                     \n",
    "    Arguments:\n",
    "    labels -- vector containing the labels \n",
    "    C -- number of classes, the depth of the one hot dimension\n",
    "    \n",
    "    Returns: \n",
    "    one_hot -- one hot matrix\n",
    "    \"\"\"\n",
    "    \n",
    "    C = tf.constant(C ,name='C')\n",
    "    \n",
    "    one_hot_matrix = tf.one_hot(labels, C, axis=1)\n",
    "    \n",
    "    sess = tf.Session()\n",
    "    \n",
    "    one_hot = sess.run(one_hot_matrix)#, feed_dic={})\n",
    "    \n",
    "    sess.close()\n",
    "    \n",
    "    return one_hot"
   ]
  },
  {
   "cell_type": "code",
   "execution_count": 3,
   "metadata": {
    "_uuid": "faa38d94c6e9aacc6d0cbdd3c0308fe9a9c8f1f2",
    "collapsed": true
   },
   "outputs": [],
   "source": [
    "df_train = pd.read_csv('./data/train.csv')\n",
    "df_test = pd.read_csv('./data/test.csv')"
   ]
  },
  {
   "cell_type": "code",
   "execution_count": 4,
   "metadata": {
    "_uuid": "8091e518063c33ccb4977f8d94bbbffdde0a9ec2",
    "collapsed": false
   },
   "outputs": [
    {
     "data": {
      "text/html": [
       "<div>\n",
       "<table border=\"1\" class=\"dataframe\">\n",
       "  <thead>\n",
       "    <tr style=\"text-align: right;\">\n",
       "      <th></th>\n",
       "      <th>label</th>\n",
       "      <th>pixel0</th>\n",
       "      <th>pixel1</th>\n",
       "      <th>pixel2</th>\n",
       "      <th>pixel3</th>\n",
       "      <th>pixel4</th>\n",
       "      <th>pixel5</th>\n",
       "      <th>pixel6</th>\n",
       "      <th>pixel7</th>\n",
       "      <th>pixel8</th>\n",
       "      <th>...</th>\n",
       "      <th>pixel774</th>\n",
       "      <th>pixel775</th>\n",
       "      <th>pixel776</th>\n",
       "      <th>pixel777</th>\n",
       "      <th>pixel778</th>\n",
       "      <th>pixel779</th>\n",
       "      <th>pixel780</th>\n",
       "      <th>pixel781</th>\n",
       "      <th>pixel782</th>\n",
       "      <th>pixel783</th>\n",
       "    </tr>\n",
       "  </thead>\n",
       "  <tbody>\n",
       "    <tr>\n",
       "      <th>0</th>\n",
       "      <td>1</td>\n",
       "      <td>0</td>\n",
       "      <td>0</td>\n",
       "      <td>0</td>\n",
       "      <td>0</td>\n",
       "      <td>0</td>\n",
       "      <td>0</td>\n",
       "      <td>0</td>\n",
       "      <td>0</td>\n",
       "      <td>0</td>\n",
       "      <td>...</td>\n",
       "      <td>0</td>\n",
       "      <td>0</td>\n",
       "      <td>0</td>\n",
       "      <td>0</td>\n",
       "      <td>0</td>\n",
       "      <td>0</td>\n",
       "      <td>0</td>\n",
       "      <td>0</td>\n",
       "      <td>0</td>\n",
       "      <td>0</td>\n",
       "    </tr>\n",
       "    <tr>\n",
       "      <th>1</th>\n",
       "      <td>0</td>\n",
       "      <td>0</td>\n",
       "      <td>0</td>\n",
       "      <td>0</td>\n",
       "      <td>0</td>\n",
       "      <td>0</td>\n",
       "      <td>0</td>\n",
       "      <td>0</td>\n",
       "      <td>0</td>\n",
       "      <td>0</td>\n",
       "      <td>...</td>\n",
       "      <td>0</td>\n",
       "      <td>0</td>\n",
       "      <td>0</td>\n",
       "      <td>0</td>\n",
       "      <td>0</td>\n",
       "      <td>0</td>\n",
       "      <td>0</td>\n",
       "      <td>0</td>\n",
       "      <td>0</td>\n",
       "      <td>0</td>\n",
       "    </tr>\n",
       "    <tr>\n",
       "      <th>2</th>\n",
       "      <td>1</td>\n",
       "      <td>0</td>\n",
       "      <td>0</td>\n",
       "      <td>0</td>\n",
       "      <td>0</td>\n",
       "      <td>0</td>\n",
       "      <td>0</td>\n",
       "      <td>0</td>\n",
       "      <td>0</td>\n",
       "      <td>0</td>\n",
       "      <td>...</td>\n",
       "      <td>0</td>\n",
       "      <td>0</td>\n",
       "      <td>0</td>\n",
       "      <td>0</td>\n",
       "      <td>0</td>\n",
       "      <td>0</td>\n",
       "      <td>0</td>\n",
       "      <td>0</td>\n",
       "      <td>0</td>\n",
       "      <td>0</td>\n",
       "    </tr>\n",
       "  </tbody>\n",
       "</table>\n",
       "<p>3 rows × 785 columns</p>\n",
       "</div>"
      ],
      "text/plain": [
       "   label  pixel0  pixel1  pixel2  pixel3  pixel4  pixel5  pixel6  pixel7  \\\n",
       "0      1       0       0       0       0       0       0       0       0   \n",
       "1      0       0       0       0       0       0       0       0       0   \n",
       "2      1       0       0       0       0       0       0       0       0   \n",
       "\n",
       "   pixel8    ...     pixel774  pixel775  pixel776  pixel777  pixel778  \\\n",
       "0       0    ...            0         0         0         0         0   \n",
       "1       0    ...            0         0         0         0         0   \n",
       "2       0    ...            0         0         0         0         0   \n",
       "\n",
       "   pixel779  pixel780  pixel781  pixel782  pixel783  \n",
       "0         0         0         0         0         0  \n",
       "1         0         0         0         0         0  \n",
       "2         0         0         0         0         0  \n",
       "\n",
       "[3 rows x 785 columns]"
      ]
     },
     "execution_count": 4,
     "metadata": {},
     "output_type": "execute_result"
    }
   ],
   "source": [
    "df_train.head(3)"
   ]
  },
  {
   "cell_type": "code",
   "execution_count": 5,
   "metadata": {
    "_uuid": "a717d6500fb0968bdfaf6e4556168da4e5593053",
    "collapsed": false
   },
   "outputs": [
    {
     "data": {
      "text/html": [
       "<div>\n",
       "<table border=\"1\" class=\"dataframe\">\n",
       "  <thead>\n",
       "    <tr style=\"text-align: right;\">\n",
       "      <th></th>\n",
       "      <th>pixel0</th>\n",
       "      <th>pixel1</th>\n",
       "      <th>pixel2</th>\n",
       "      <th>pixel3</th>\n",
       "      <th>pixel4</th>\n",
       "      <th>pixel5</th>\n",
       "      <th>pixel6</th>\n",
       "      <th>pixel7</th>\n",
       "      <th>pixel8</th>\n",
       "      <th>pixel9</th>\n",
       "      <th>...</th>\n",
       "      <th>pixel774</th>\n",
       "      <th>pixel775</th>\n",
       "      <th>pixel776</th>\n",
       "      <th>pixel777</th>\n",
       "      <th>pixel778</th>\n",
       "      <th>pixel779</th>\n",
       "      <th>pixel780</th>\n",
       "      <th>pixel781</th>\n",
       "      <th>pixel782</th>\n",
       "      <th>pixel783</th>\n",
       "    </tr>\n",
       "  </thead>\n",
       "  <tbody>\n",
       "    <tr>\n",
       "      <th>0</th>\n",
       "      <td>0</td>\n",
       "      <td>0</td>\n",
       "      <td>0</td>\n",
       "      <td>0</td>\n",
       "      <td>0</td>\n",
       "      <td>0</td>\n",
       "      <td>0</td>\n",
       "      <td>0</td>\n",
       "      <td>0</td>\n",
       "      <td>0</td>\n",
       "      <td>...</td>\n",
       "      <td>0</td>\n",
       "      <td>0</td>\n",
       "      <td>0</td>\n",
       "      <td>0</td>\n",
       "      <td>0</td>\n",
       "      <td>0</td>\n",
       "      <td>0</td>\n",
       "      <td>0</td>\n",
       "      <td>0</td>\n",
       "      <td>0</td>\n",
       "    </tr>\n",
       "    <tr>\n",
       "      <th>1</th>\n",
       "      <td>0</td>\n",
       "      <td>0</td>\n",
       "      <td>0</td>\n",
       "      <td>0</td>\n",
       "      <td>0</td>\n",
       "      <td>0</td>\n",
       "      <td>0</td>\n",
       "      <td>0</td>\n",
       "      <td>0</td>\n",
       "      <td>0</td>\n",
       "      <td>...</td>\n",
       "      <td>0</td>\n",
       "      <td>0</td>\n",
       "      <td>0</td>\n",
       "      <td>0</td>\n",
       "      <td>0</td>\n",
       "      <td>0</td>\n",
       "      <td>0</td>\n",
       "      <td>0</td>\n",
       "      <td>0</td>\n",
       "      <td>0</td>\n",
       "    </tr>\n",
       "    <tr>\n",
       "      <th>2</th>\n",
       "      <td>0</td>\n",
       "      <td>0</td>\n",
       "      <td>0</td>\n",
       "      <td>0</td>\n",
       "      <td>0</td>\n",
       "      <td>0</td>\n",
       "      <td>0</td>\n",
       "      <td>0</td>\n",
       "      <td>0</td>\n",
       "      <td>0</td>\n",
       "      <td>...</td>\n",
       "      <td>0</td>\n",
       "      <td>0</td>\n",
       "      <td>0</td>\n",
       "      <td>0</td>\n",
       "      <td>0</td>\n",
       "      <td>0</td>\n",
       "      <td>0</td>\n",
       "      <td>0</td>\n",
       "      <td>0</td>\n",
       "      <td>0</td>\n",
       "    </tr>\n",
       "  </tbody>\n",
       "</table>\n",
       "<p>3 rows × 784 columns</p>\n",
       "</div>"
      ],
      "text/plain": [
       "   pixel0  pixel1  pixel2  pixel3  pixel4  pixel5  pixel6  pixel7  pixel8  \\\n",
       "0       0       0       0       0       0       0       0       0       0   \n",
       "1       0       0       0       0       0       0       0       0       0   \n",
       "2       0       0       0       0       0       0       0       0       0   \n",
       "\n",
       "   pixel9    ...     pixel774  pixel775  pixel776  pixel777  pixel778  \\\n",
       "0       0    ...            0         0         0         0         0   \n",
       "1       0    ...            0         0         0         0         0   \n",
       "2       0    ...            0         0         0         0         0   \n",
       "\n",
       "   pixel779  pixel780  pixel781  pixel782  pixel783  \n",
       "0         0         0         0         0         0  \n",
       "1         0         0         0         0         0  \n",
       "2         0         0         0         0         0  \n",
       "\n",
       "[3 rows x 784 columns]"
      ]
     },
     "execution_count": 5,
     "metadata": {},
     "output_type": "execute_result"
    }
   ],
   "source": [
    "df_test.head(3)"
   ]
  },
  {
   "cell_type": "code",
   "execution_count": 6,
   "metadata": {
    "_uuid": "9883bbcd78b4826833db1c56f370f2505cd32aba",
    "collapsed": true
   },
   "outputs": [],
   "source": [
    "X = df_train.iloc[:,1:].values/255\n",
    "y = df_train.iloc[:,0].values\n",
    "y_onehot = one_hot_matrix(np.array(y), 10)"
   ]
  },
  {
   "cell_type": "code",
   "execution_count": 7,
   "metadata": {
    "_uuid": "bb0e3df198cdd4de2b038e2f5cf88262ab04d98c",
    "collapsed": true
   },
   "outputs": [],
   "source": [
    "from sklearn.model_selection import train_test_split\n",
    "X_train, X_test, y_train, y_test = train_test_split(X, y_onehot, random_state=42)"
   ]
  },
  {
   "cell_type": "code",
   "execution_count": 8,
   "metadata": {
    "_uuid": "94d96088320fc07a616b45297fee472267cde72f",
    "collapsed": false
   },
   "outputs": [
    {
     "data": {
      "text/plain": [
       "(31500, 28, 28, 1)"
      ]
     },
     "execution_count": 8,
     "metadata": {},
     "output_type": "execute_result"
    }
   ],
   "source": [
    "X_train_reshaped = X_train.reshape(X_train.shape[0], 28,28, 1)\n",
    "X_test_reshaped = X_test.reshape(X_test.shape[0], 28,28, 1)\n",
    "X_train_reshaped.shape"
   ]
  },
  {
   "cell_type": "code",
   "execution_count": 9,
   "metadata": {
    "_uuid": "39526e8222a34f9f59973afd7d9f0869a6ad6ab6",
    "collapsed": false
   },
   "outputs": [
    {
     "name": "stdout",
     "output_type": "stream",
     "text": [
      "label : 1\n"
     ]
    },
    {
     "data": {
      "image/png": "[encoded data removed]",
      "text/plain": [
       "<matplotlib.figure.Figure at 0x118e3ed68>"
      ]
     },
     "metadata": {},
     "output_type": "display_data"
    }
   ],
   "source": [
    "plot_image(np.reshape(X[2], (28,28)))\n",
    "print ('label :', np.argmax(y_onehot[2]))"
   ]
  },
  {
   "cell_type": "code",
   "execution_count": 18,
   "metadata": {
    "_uuid": "6eabf63cb5fb966545c1b9e2e744aea5801d2a87",
    "collapsed": true
   },
   "outputs": [],
   "source": [
    "n_sample, height, width, channels = X_train_reshaped.shape\n",
    "L_RATE = 0.001\n",
    "\n",
    "conv1_features = 32\n",
    "conv1_filters = 3\n",
    "conv1_stride = 1\n",
    "conv1_padding = \"SAME\"\n",
    "\n",
    "conv2_features = 64\n",
    "conv2_filters = 3\n",
    "conv2_stride = 2\n",
    "conv2_padding = \"SAME\"\n",
    "\n",
    "pool1_features = conv2_features\n",
    "\n",
    "n_fc1 = 64\n",
    "n_output_layers = 10"
   ]
  },
  {
   "cell_type": "markdown",
   "metadata": {},
   "source": [
    "# Tensor Graph <br>\n",
    "<Br>\n",
    "\n",
    "<b>Layer Structure</b> <br>\n",
    "\n",
    "- Input layer : Data shape = [ None, 28, 28, 1] <br>\n",
    "- Conv1 layer : Filter 3x3 D32, Stride 1 <br>\n",
    "- Conv2 layer : Filter 3x3 D64, Stride 2 <br>\n",
    "- Pool1 layer : 2x2 (Max pooling) D64 <br>\n",
    "- Fully Connected layer : 7*7*64 = 3136 (1-D layer) => 64 <br>\n",
    "- Output Layer : 10 (softmax - classification ) <br> \n",
    "\n",
    "<br><br>\n"
   ]
  },
  {
   "cell_type": "code",
   "execution_count": 19,
   "metadata": {
    "_uuid": "565e25a36097c902b6661221f94eca636d2ae335",
    "collapsed": true
   },
   "outputs": [],
   "source": [
    "reset_graph()\n",
    "with tf.name_scope(\"inputs\"):\n",
    "    X = tf.placeholder(tf.float32, shape=[None, height, width, channels], name=\"X\")\n",
    "    y = tf.placeholder(tf.int32, shape=[None, n_output_layers], name=\"y\")\n",
    "    \n",
    "with tf.name_scope(\"conv1\"):\n",
    "    conv1 = tf.layers.conv2d(X, filters=conv1_features, kernel_size=conv1_filters,\n",
    "                         strides=conv1_stride, padding=conv1_padding,\n",
    "                         activation=tf.nn.relu, name=\"conv1\")\n",
    "\n",
    "with tf.name_scope(\"conv1\"):\n",
    "    conv2 = tf.layers.conv2d(conv1, filters=conv2_features, kernel_size=conv2_filters,\n",
    "                         strides=conv2_stride, padding=conv2_padding,\n",
    "                         activation=tf.nn.relu, name=\"conv2\")\n",
    "    \n",
    "with tf.name_scope(\"pool1\"):\n",
    "    pool1 = tf.nn.max_pool(conv2, ksize=[1, 2, 2, 1], strides=[1, 2, 2, 1], padding=\"VALID\", name='pool1')\n",
    "    pool1_flat = tf.reshape(pool1, shape=[-1, pool1_features * 7 * 7])\n",
    "\n",
    "with tf.name_scope(\"fc1\"):\n",
    "    fc1 = tf.layers.dense(pool1_flat, n_fc1, activation=tf.nn.relu, name=\"fc1\")\n",
    "    \n",
    "with tf.name_scope(\"output\"):\n",
    "    logits = tf.layers.dense(fc1, n_output_layers, name=\"output\")"
   ]
  },
  {
   "cell_type": "code",
   "execution_count": 26,
   "metadata": {
    "_uuid": "c56f151a5f94ac7f1a590f590b5212a393a91cfe",
    "collapsed": false
   },
   "outputs": [
    {
     "name": "stdout",
     "output_type": "stream",
     "text": [
      "(?, 28, 28, 32)\n",
      "(?, 14, 14, 64)\n",
      "(?, 7, 7, 64)\n",
      "(?, 3136)\n",
      "(?, 64)\n",
      "(?, 10)\n",
      "(?, 10)\n"
     ]
    }
   ],
   "source": [
    "print (conv1.shape)\n",
    "print (conv2.shape)\n",
    "print (pool1.shape)\n",
    "print (pool1_flat.shape)\n",
    "print (fc1.shape)\n",
    "print (logits.shape)\n",
    "print (y.shape)"
   ]
  },
  {
   "cell_type": "code",
   "execution_count": 21,
   "metadata": {
    "_uuid": "abd04949839561dfa11c3f25bf2c7744194ec6d3",
    "collapsed": false
   },
   "outputs": [],
   "source": [
    "with tf.name_scope('cost'):\n",
    "    cost = tf.reduce_mean(tf.nn.softmax_cross_entropy_with_logits(logits=logits, labels=y))\n",
    "    optimizer = tf.train.AdamOptimizer(learning_rate = L_RATE).minimize(cost)\n",
    "\n",
    "with tf.name_scope(\"eval\"):\n",
    "    #correct = tf.nn.in_top_k(logits, y, 1)\n",
    "    correct_prediction = tf.equal(tf.argmax(logits, axis=1), tf.argmax(y, axis=1))\n",
    "    accuracy = tf.reduce_mean(tf.cast(correct_prediction, tf.float32))\n",
    "\n",
    "with tf.name_scope(\"init_and_save\"):\n",
    "    init = tf.global_variables_initializer()\n",
    "    #saver = tf.train.Saver()"
   ]
  },
  {
   "cell_type": "code",
   "execution_count": 23,
   "metadata": {
    "_uuid": "146c606d0e52b98b504db00401ead5b72ef35d1d",
    "collapsed": false
   },
   "outputs": [
    {
     "data": {
      "text/plain": [
       "(10500, 28, 28, 1)"
      ]
     },
     "execution_count": 23,
     "metadata": {},
     "output_type": "execute_result"
    }
   ],
   "source": [
    "X_test_reshaped.shape"
   ]
  },
  {
   "cell_type": "code",
   "execution_count": 25,
   "metadata": {
    "_uuid": "ab43ea63b011502a749b8d7036e4af5fbb41e849",
    "collapsed": false
   },
   "outputs": [
    {
     "name": "stdout",
     "output_type": "stream",
     "text": [
      "Epoch 0: Cost - 1.0454 Train Acc - 96.94 Test Acc - 96.47\n",
      "Epoch 1: Cost - 0.2557 Train Acc - 98.03 Test Acc - 97.37\n",
      "Epoch 2: Cost - 0.1730 Train Acc - 98.51 Test Acc - 97.88\n",
      "Epoch 3: Cost - 0.1271 Train Acc - 98.97 Test Acc - 98.12\n",
      "Epoch 4: Cost - 0.0951 Train Acc - 99.30 Test Acc - 98.38\n",
      "Epoch 5: Cost - 0.0716 Train Acc - 99.51 Test Acc - 98.55\n",
      "Epoch 6: Cost - 0.0543 Train Acc - 99.56 Test Acc - 98.40\n",
      "Epoch 7: Cost - 0.0498 Train Acc - 99.63 Test Acc - 98.38\n",
      "Epoch 8: Cost - 0.0429 Train Acc - 99.40 Test Acc - 98.24\n",
      "Epoch 9: Cost - 0.0381 Train Acc - 99.67 Test Acc - 98.57\n",
      "Epoch 10: Cost - 0.0331 Train Acc - 99.34 Test Acc - 98.10\n",
      "Epoch 11: Cost - 0.0234 Train Acc - 99.75 Test Acc - 98.47\n",
      "Epoch 12: Cost - 0.0238 Train Acc - 99.82 Test Acc - 98.57\n",
      "Epoch 13: Cost - 0.0271 Train Acc - 99.90 Test Acc - 98.64\n",
      "Epoch 14: Cost - 0.0118 Train Acc - 99.99 Test Acc - 98.81\n",
      "Epoch 15: Cost - 0.0147 Train Acc - 99.88 Test Acc - 98.70\n",
      "Epoch 16: Cost - 0.0222 Train Acc - 99.94 Test Acc - 98.69\n",
      "Epoch 17: Cost - 0.0047 Train Acc - 99.97 Test Acc - 98.93\n",
      "Epoch 18: Cost - 0.0026 Train Acc - 99.97 Test Acc - 98.76\n",
      "Epoch 19: Cost - 0.0142 Train Acc - 99.90 Test Acc - 98.73\n"
     ]
    },
    {
     "data": {
      "image/png": "[encoded data removed]",
      "text/plain": [
       "<matplotlib.figure.Figure at 0x11f895080>"
      ]
     },
     "metadata": {},
     "output_type": "display_data"
    }
   ],
   "source": [
    "n_epochs = 20\n",
    "batch_size = 100\n",
    "m = len(X_train_reshaped)\n",
    "\n",
    "cost_list =[]\n",
    "train_acc_list=[]\n",
    "test_acc_list=[]\n",
    "\n",
    "with tf.Session() as sess:\n",
    "    init.run()\n",
    "    for epoch in range(n_epochs):\n",
    "        epoch_cost = 0\n",
    "        for iteration in range(m // batch_size):\n",
    "            X_batch = X_train_reshaped[iteration*batch_size:(iteration+1)*batch_size]\n",
    "            y_batch = y_train[iteration*batch_size:(iteration+1)*batch_size]\n",
    "            _, batch_cost = sess.run([optimizer, cost], feed_dict={X: X_batch, y: y_batch})\n",
    "            epoch_cost += batch_cost / batch_size\n",
    "        \n",
    "        epoch_train_acc = accuracy.eval({X: X_train_reshaped, y: y_train})\n",
    "        epoch_test_acc = accuracy.eval({X: X_test_reshaped, y: y_test})\n",
    "        \n",
    "        cost_list.append(epoch_cost)\n",
    "        train_acc_list.append(epoch_train_acc)\n",
    "        test_acc_list.append(epoch_test_acc)\n",
    "        \n",
    "        print ('Epoch %i: Cost - %0.4f Train Acc - %0.2f Test Acc - %0.2f' \n",
    "               % (epoch, epoch_cost, 100*epoch_train_acc, 100*epoch_test_acc) )\n",
    "    \n",
    "    \n",
    "fig, ax = plt.subplots(ncols=2)\n",
    "ax[0].plot(np.squeeze(cost_list))\n",
    "ax[0].set_ylabel('cost')\n",
    "ax[0].set_xlabel('Epoch Number')\n",
    "ax[0].set_title(\"Learning rate =\" + str(L_RATE))\n",
    "\n",
    "ax[1].plot(train_acc_list, label=\"Train Acc\")\n",
    "ax[1].plot(test_acc_list, label=\"Test Acc\")\n",
    "ax[1].set_xlabel('Epoch Number')\n",
    "ax[1].set_title(\"Accuracy \")\n",
    "ax[1].legend()\n",
    "\n",
    "plt.show()"
   ]
  },
  {
   "cell_type": "code",
   "execution_count": null,
   "metadata": {
    "_uuid": "445817665b5d3b2a1d965a252ec2eec4b8564eba",
    "collapsed": true
   },
   "outputs": [],
   "source": []
  }
 ],
 "metadata": {
  "kernelspec": {
   "display_name": "Python 3",
   "language": "python",
   "name": "python3"
  },
  "language_info": {
   "codemirror_mode": {
    "name": "ipython",
    "version": 3
   },
   "file_extension": ".py",
   "mimetype": "text/x-python",
   "name": "python",
   "nbconvert_exporter": "python",
   "pygments_lexer": "ipython3",
   "version": "3.6.0"
  }
 },
 "nbformat": 4,
 "nbformat_minor": 1
}
